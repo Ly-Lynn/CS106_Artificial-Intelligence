{
 "cells": [
  {
   "cell_type": "markdown",
   "metadata": {},
   "source": [
    "# Installation and libraries"
   ]
  },
  {
   "cell_type": "code",
   "execution_count": 2,
   "metadata": {},
   "outputs": [
    {
     "name": "stdout",
     "output_type": "stream",
     "text": [
      "Requirement already satisfied: ortools in c:\\users\\thuyl\\appdata\\local\\packages\\pythonsoftwarefoundation.python.3.11_qbz5n2kfra8p0\\localcache\\local-packages\\python311\\site-packages (9.9.3963)\n",
      "Requirement already satisfied: absl-py>=2.0.0 in c:\\users\\thuyl\\appdata\\local\\packages\\pythonsoftwarefoundation.python.3.11_qbz5n2kfra8p0\\localcache\\local-packages\\python311\\site-packages (from ortools) (2.1.0)\n",
      "Requirement already satisfied: numpy>=1.13.3 in c:\\users\\thuyl\\appdata\\local\\packages\\pythonsoftwarefoundation.python.3.11_qbz5n2kfra8p0\\localcache\\local-packages\\python311\\site-packages (from ortools) (1.26.1)\n",
      "Requirement already satisfied: pandas>=2.0.0 in c:\\users\\thuyl\\appdata\\local\\packages\\pythonsoftwarefoundation.python.3.11_qbz5n2kfra8p0\\localcache\\local-packages\\python311\\site-packages (from ortools) (2.1.3)\n",
      "Requirement already satisfied: protobuf>=4.25.3 in c:\\users\\thuyl\\appdata\\local\\packages\\pythonsoftwarefoundation.python.3.11_qbz5n2kfra8p0\\localcache\\local-packages\\python311\\site-packages (from ortools) (5.26.1)\n",
      "Requirement already satisfied: immutabledict>=3.0.0 in c:\\users\\thuyl\\appdata\\local\\packages\\pythonsoftwarefoundation.python.3.11_qbz5n2kfra8p0\\localcache\\local-packages\\python311\\site-packages (from ortools) (4.2.0)\n",
      "Requirement already satisfied: python-dateutil>=2.8.2 in c:\\users\\thuyl\\appdata\\local\\packages\\pythonsoftwarefoundation.python.3.11_qbz5n2kfra8p0\\localcache\\local-packages\\python311\\site-packages (from pandas>=2.0.0->ortools) (2.8.2)\n",
      "Requirement already satisfied: pytz>=2020.1 in c:\\users\\thuyl\\appdata\\local\\packages\\pythonsoftwarefoundation.python.3.11_qbz5n2kfra8p0\\localcache\\local-packages\\python311\\site-packages (from pandas>=2.0.0->ortools) (2023.3.post1)\n",
      "Requirement already satisfied: tzdata>=2022.1 in c:\\users\\thuyl\\appdata\\local\\packages\\pythonsoftwarefoundation.python.3.11_qbz5n2kfra8p0\\localcache\\local-packages\\python311\\site-packages (from pandas>=2.0.0->ortools) (2023.3)\n",
      "Requirement already satisfied: six>=1.5 in c:\\users\\thuyl\\appdata\\local\\packages\\pythonsoftwarefoundation.python.3.11_qbz5n2kfra8p0\\localcache\\local-packages\\python311\\site-packages (from python-dateutil>=2.8.2->pandas>=2.0.0->ortools) (1.16.0)\n"
     ]
    },
    {
     "name": "stderr",
     "output_type": "stream",
     "text": [
      "\n",
      "[notice] A new release of pip is available: 23.3.2 -> 24.0\n",
      "[notice] To update, run: C:\\Users\\thuyl\\AppData\\Local\\Microsoft\\WindowsApps\\PythonSoftwareFoundation.Python.3.11_qbz5n2kfra8p0\\python.exe -m pip install --upgrade pip\n"
     ]
    }
   ],
   "source": [
    "!pip install ortools"
   ]
  },
  {
   "cell_type": "code",
   "execution_count": 1,
   "metadata": {},
   "outputs": [],
   "source": [
    "from ortools.algorithms.python import knapsack_solver\n",
    "import os\n",
    "import time"
   ]
  },
  {
   "cell_type": "code",
   "execution_count": 4,
   "metadata": {},
   "outputs": [
    {
     "name": "stderr",
     "output_type": "stream",
     "text": [
      "fatal: destination path 'kplib' already exists and is not an empty directory.\n"
     ]
    }
   ],
   "source": [
    "!git clone https://github.com/likr/kplib"
   ]
  },
  {
   "cell_type": "code",
   "execution_count": 2,
   "metadata": {},
   "outputs": [],
   "source": [
    "# the first test case in each subfolder \n",
    "dataDir = r\"C:\\Users\\thuyl\\OneDrive\\My documents\\AI\\CS106_Artificial-Intelligence\\BT3_22520766\\kplib\"\n",
    "testcase = ['n00050', 'n00100', 'n00500', 'n01000', 'n10000']"
   ]
  },
  {
   "cell_type": "markdown",
   "metadata": {},
   "source": [
    "# Functions"
   ]
  },
  {
   "cell_type": "code",
   "execution_count": 3,
   "metadata": {},
   "outputs": [],
   "source": [
    "def solver(values, weights, capacity):\n",
    "    # print(len(values), len(weights), capacity, sep='\\n')\n",
    "    solver = knapsack_solver.KnapsackSolver(\n",
    "        knapsack_solver.SolverType.KNAPSACK_MULTIDIMENSION_BRANCH_AND_BOUND_SOLVER,\n",
    "        \"KnapsackExample\",\n",
    "    )\n",
    "    solver.set_time_limit(180)\n",
    "    start = time.time()\n",
    "    weights = [weights]\n",
    "    solver.init(values, weights, capacity) \n",
    "    total_value = solver.solve()\n",
    "    end = time.time()\n",
    "    total_time = end - start\n",
    "\n",
    "    packed_items = []\n",
    "    packed_weights = [] \n",
    "    total_weight = 0\n",
    "    if total_time <= 180:\n",
    "        for i in range(len(values)):\n",
    "            if solver.best_solution_contains(i):\n",
    "                packed_items.append(i)\n",
    "                packed_weights.append(weights[0][i])\n",
    "                total_weight += weights[0][i]\n",
    "        return total_value, total_weight, packed_items, packed_weights, total_time\n",
    "    else: \n",
    "        return None, None, None, None, total_time\n"
   ]
  },
  {
   "cell_type": "code",
   "execution_count": 4,
   "metadata": {},
   "outputs": [],
   "source": [
    "def read(file_path):\n",
    "    with open(file_path, 'r') as file:\n",
    "        lines = file.readlines()\n",
    "        first_line = [line.strip() for line in lines if line.strip()]\n",
    "        num_objects = int(first_line[0])\n",
    "        capacities = int(first_line[1])\n",
    "        capacities = [capacities]\n",
    "        values = []\n",
    "        weights = []\n",
    "        for idx, line in enumerate(first_line):\n",
    "            if idx == 0 or idx == 1: continue\n",
    "            value, weight = map(int, line.strip().split())\n",
    "            values.append(value)\n",
    "            weights.append(weight)\n",
    "        \n",
    "    return num_objects, capacities, values, weights"
   ]
  },
  {
   "cell_type": "code",
   "execution_count": 5,
   "metadata": {},
   "outputs": [],
   "source": [
    "def write(filename, total_value=None, total_weight=None, packed_items=None, packed_weights=None, total_time=None):\n",
    "    with open(filename, 'w') as file:\n",
    "        file.write(\"Total Value: {}\\n\".format(total_value))\n",
    "        file.write(\"Total Weight: {}\\n\".format(total_weight))\n",
    "        file.write(\"Packed Items: {}\\n\".format(packed_items))\n",
    "        file.write(\"Packed Weights: {}\\n\".format(packed_weights))\n",
    "        file.write(\"Total Time: {} seconds\\n\".format(total_time))\n"
   ]
  },
  {
   "cell_type": "code",
   "execution_count": 6,
   "metadata": {},
   "outputs": [],
   "source": [
    "def processing(testcase, inDir):\n",
    "    for nameTest in os.listdir(inDir):\n",
    "        if nameTest == '.git' or nameTest == 'README.md': continue\n",
    "        namePath = os.path.join(inDir, nameTest)\n",
    "\n",
    "        for test in testcase:\n",
    "            testFile = os.listdir(os.path.join(namePath, test, 'R01000'))[0]\n",
    "            testPath = os.path.join(namePath, test, 'R01000', testFile)\n",
    "            n, capacities, values, weights = read(testPath)\n",
    "            # print(n, capacities, values, weights, sep='\\n')\n",
    "            total_value, total_weight, packed_items, packed_weights, total_time = solver(values=values, weights=weights, capacity=capacities)\n",
    "            # print(total_value, total_weight, packed_items, packed_weights, total_time, sep='\\n')\n",
    "            write(total_value=total_value, total_weight=total_weight, packed_items=packed_items, packed_weights=packed_weights, total_time=total_time, filename=f'{nameTest}_{test}_{testFile}')"
   ]
  },
  {
   "cell_type": "code",
   "execution_count": 7,
   "metadata": {},
   "outputs": [],
   "source": [
    "processing(testcase, dataDir)"
   ]
  }
 ],
 "metadata": {
  "kernelspec": {
   "display_name": "Python 3",
   "language": "python",
   "name": "python3"
  },
  "language_info": {
   "codemirror_mode": {
    "name": "ipython",
    "version": 3
   },
   "file_extension": ".py",
   "mimetype": "text/x-python",
   "name": "python",
   "nbconvert_exporter": "python",
   "pygments_lexer": "ipython3",
   "version": "3.11.9"
  }
 },
 "nbformat": 4,
 "nbformat_minor": 2
}
